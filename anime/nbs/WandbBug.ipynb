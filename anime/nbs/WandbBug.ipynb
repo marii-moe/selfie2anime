{
 "cells": [
  {
   "cell_type": "code",
   "execution_count": 1,
   "metadata": {},
   "outputs": [
    {
     "data": {
      "text/html": [
       "\n",
       "                Logging results to <a href=\"https://wandb.com\" target=\"_blank\">Weights & Biases</a> <a href=\"https://docs.wandb.com/integrations/jupyter.html\" target=\"_blank\">(Documentation)</a>.<br/>\n",
       "                Project page: <a href=\"https://app.wandb.ai/marii/uncategorized\" target=\"_blank\">https://app.wandb.ai/marii/uncategorized</a><br/>\n",
       "                Run page: <a href=\"https://app.wandb.ai/marii/uncategorized/runs/2fmm8xfd\" target=\"_blank\">https://app.wandb.ai/marii/uncategorized/runs/2fmm8xfd</a><br/>\n",
       "            "
      ],
      "text/plain": [
       "<IPython.core.display.HTML object>"
      ]
     },
     "metadata": {},
     "output_type": "display_data"
    },
    {
     "data": {
      "text/plain": [
       "W&B Run: https://app.wandb.ai/marii/uncategorized/runs/2fmm8xfd"
      ]
     },
     "execution_count": 1,
     "metadata": {},
     "output_type": "execute_result"
    }
   ],
   "source": [
    "import wandb\n",
    "from torch import nn\n",
    "import torch\n",
    "wandb.init()"
   ]
  },
  {
   "cell_type": "code",
   "execution_count": 2,
   "metadata": {},
   "outputs": [],
   "source": [
    "\n",
    "d1=torch.device('cuda')\n",
    "d0=torch.device('cuda')\n",
    "bs=10\n",
    "class SplitModel(nn.Module):\n",
    "    def __init__(self):\n",
    "        super().__init__()\n",
    "        self.m1=nn.Sequential(\n",
    "            nn.Conv2d(3,10,7,2),\n",
    "            nn.ReLU(inplace=True),\n",
    "            nn.Conv2d(10,32,3,1),\n",
    "            nn.Flatten(),\n",
    "            nn.Linear(2592,1),\n",
    "            nn.Sigmoid()\n",
    "        )\n",
    "        self.m2=nn.Sequential(\n",
    "            nn.Conv2d(3,10,7,2),\n",
    "            nn.ReLU(inplace=True),\n",
    "            nn.Conv2d(10,32,3,1),\n",
    "            nn.Flatten(),\n",
    "            nn.Linear(2592,1),\n",
    "            nn.Sigmoid()\n",
    "        )\n",
    "    def forward(self,*x):\n",
    "        x1,x2=x\n",
    "        return self.m1(x1),self.m2(x2)\n",
    "class AddLoss(nn.Module):\n",
    "    def __init__(self):\n",
    "        super().__init__()\n",
    "        self.loss1=nn.BCELoss()\n",
    "        self.loss2=nn.BCELoss()\n",
    "    def forward(self,*x):\n",
    "        x1,x2=x\n",
    "        return self.loss1(x1,target=torch.ones_like(x1,device=x1.device))+self.loss2(x2,target=torch.ones_like(x2,device=x2.device)).to(x1.device)\n",
    "\n",
    "x=torch.randn([bs,3,28,28]).cuda()\n",
    "model=SplitModel()\n",
    "model.m1.to(d0)\n",
    "model.m2.to(d1)\n",
    "loss_func=AddLoss()\n",
    "#wandb.watch(model)\n",
    "pred=model(x,x.to(d1))\n",
    "loss=loss_func(*pred)\n",
    "loss.backward()\n",
    "class SplitModel(nn.Module):\n",
    "    def __init__(self):\n",
    "        super().__init__()\n",
    "        self.m1=nn.Sequential(\n",
    "            nn.Conv2d(3,10,7,2),\n",
    "            nn.ReLU(inplace=True),\n",
    "            nn.Conv2d(10,32,3,1),\n",
    "            nn.Flatten(),\n",
    "            nn.Linear(2592,1),\n",
    "            nn.Sigmoid()\n",
    "        )\n",
    "        self.m2=nn.Sequential(\n",
    "            nn.Conv2d(3,10,7,2),\n",
    "            nn.ReLU(inplace=True),\n",
    "            nn.Conv2d(10,32,3,1),\n",
    "            nn.Flatten(),\n",
    "            nn.Linear(2592,1),\n",
    "            nn.Sigmoid()\n",
    "        )\n",
    "    def forward(self,*x):\n",
    "        x1,x2=x\n",
    "        return self.m1(x1),self.m2(x2)\n",
    "class AddLoss(nn.Module):\n",
    "    def __init__(self):\n",
    "        super().__init__()\n",
    "        self.loss1=nn.BCELoss()\n",
    "        self.loss2=nn.BCELoss()\n",
    "    def forward(self,*x):\n",
    "        x1,x2=x\n",
    "        return self.loss1(x1,target=torch.ones_like(x1,device=x1.device))+self.loss2(x2,target=torch.ones_like(x2,device=x2.device)).to(x1.device)\n",
    "    \n",
    "x=torch.randn([bs,3,28,28]).cuda()\n",
    "model=SplitModel()\n",
    "wandb.watch(model)\n",
    "\n",
    "model.m1.to(d0)\n",
    "model.m2.to(d1)\n",
    "loss_func=AddLoss()\n",
    "pred=model(x,x.to(d1))\n",
    "loss=loss_func(*pred)\n",
    "loss.backward()"
   ]
  }
 ],
 "metadata": {
  "kernelspec": {
   "display_name": "Python (fastai2)",
   "language": "python",
   "name": "fastai2"
  },
  "language_info": {
   "codemirror_mode": {
    "name": "ipython",
    "version": 3
   },
   "file_extension": ".py",
   "mimetype": "text/x-python",
   "name": "python",
   "nbconvert_exporter": "python",
   "pygments_lexer": "ipython3",
   "version": "3.6.10"
  }
 },
 "nbformat": 4,
 "nbformat_minor": 2
}
