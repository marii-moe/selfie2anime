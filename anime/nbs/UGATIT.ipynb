{
 "cells": [
  {
   "cell_type": "code",
   "execution_count": 1,
   "metadata": {},
   "outputs": [],
   "source": [
    "#default_exp anime.ugatit"
   ]
  },
  {
   "cell_type": "code",
   "execution_count": 2,
   "metadata": {},
   "outputs": [],
   "source": [
    "#export\n",
    "from functools import partial\n",
    "import numpy as np\n",
    "from pathlib import Path\n",
    "from fastai2.torch_basics import *\n",
    "import sys\n",
    "class fakemodule(object):\n",
    "    def method(a):\n",
    "        return a\n",
    "sys.modules[\"cv2\"] = fakemodule\n",
    "from anime.ugatit_networks import ResnetGenerator,Discriminator,RhoClipper\n",
    "#from UGATITimport ResnetGenerator,Discriminator,RhoClipper"
   ]
  },
  {
   "cell_type": "code",
   "execution_count": 3,
   "metadata": {},
   "outputs": [],
   "source": [
    "path=Path(\"/home/fast/fastai2/anime/\")\n",
    "x=np.load(str(path/'ugatit.npy'))"
   ]
  },
  {
   "cell_type": "code",
   "execution_count": 4,
   "metadata": {},
   "outputs": [],
   "source": [
    "#export\n",
    "class UGATIT(object) :\n",
    "    def __init__(self):\n",
    "        self.ch = 64\n",
    "        self.lr=0.0001\n",
    "        self.weight_decay=0.0001\n",
    "        \"\"\" Weight \"\"\"\n",
    "        self.cycle_weight = 10\n",
    "        self.identity_weight = 10\n",
    "        self.cam_weight = 1000\n",
    "\n",
    "        \"\"\" Generator \"\"\"\n",
    "        self.n_res = 4\n",
    "\n",
    "        \"\"\" Discriminator \"\"\"\n",
    "        self.n_dis = 6\n",
    "\n",
    "        self.img_size = 128\n",
    "        self.img_ch = 3\n",
    "\n",
    "    def build_model(self):\n",
    "\n",
    "        \"\"\" Define Generator, Discriminator \"\"\"\n",
    "        genA2B = ResnetGenerator(input_nc=3, output_nc=3, ngf=self.ch, n_blocks=self.n_res, img_size=self.img_size, light=False)\n",
    "        genB2A = ResnetGenerator(input_nc=3, output_nc=3, ngf=self.ch, n_blocks=self.n_res, img_size=self.img_size, light=False)\n",
    "        disGA = Discriminator(input_nc=3, ndf=self.ch, n_layers=7)\n",
    "        disGB = Discriminator(input_nc=3, ndf=self.ch, n_layers=7)\n",
    "        disLA = Discriminator(input_nc=3, ndf=self.ch, n_layers=5)\n",
    "        disLB = Discriminator(input_nc=3, ndf=self.ch, n_layers=5)\n",
    "        genA2B.name='genA2B'\n",
    "        genB2A.name='genB2A'\n",
    "        disGA.name='disGA'\n",
    "        disGB.name='disGB'\n",
    "        disLA.name='disLA'\n",
    "        disLB.name='disLB'\n",
    "        self.models=(genA2B,genB2A,disGA,disGB,disLA,disLB)\n",
    "        \n",
    "\n",
    "        \"\"\" Define Loss \"\"\"\n",
    "        L1_loss = nn.L1Loss()\n",
    "        MSE_loss = nn.MSELoss()\n",
    "        BCE_loss = nn.BCEWithLogitsLoss()\n",
    "        self.losses=(L1_loss,MSE_loss,BCE_loss)\n",
    "\n",
    "        \"\"\" Trainer \"\"\"\n",
    "        G_optim = torch.optim.Adam(itertools.chain(genA2B.parameters(), genB2A.parameters()), lr=self.lr, betas=(0.5, 0.999), weight_decay=self.weight_decay)\n",
    "        D_optim = torch.optim.Adam(itertools.chain(disGA.parameters(), disGB.parameters(), disLA.parameters(), disLB.parameters()), lr=self.lr, betas=(0.5, 0.999), weight_decay=self.weight_decay)\n",
    "        G_optim.name='gen_optim'\n",
    "        D_optim.name='disc_optim'\n",
    "        self.optims=(G_optim,D_optim)\n",
    "        \n",
    "        \"\"\" Define Rho clipper to constraint the value of rho in AdaILN and ILN\"\"\"\n",
    "        self.Rho_clipper = RhoClipper(0, 1)"
   ]
  },
  {
   "cell_type": "code",
   "execution_count": 5,
   "metadata": {},
   "outputs": [],
   "source": [
    "#export\n",
    "class UgatitModel(nn.Module):\n",
    "    def __init__(self,models, devices=[default_device()]):\n",
    "        super(UgatitModel, self).__init__()\n",
    "        keys=['GA2B','GB2A','DA','DB','LA','LB']\n",
    "        self.models=nn.ModuleDict(zip(keys,models))\n",
    "        self.optimizing_gen=True\n",
    "        self.devices=devices\n",
    "    #xA,xB are refering to the device that the model is on if two gpus\n",
    "    def forward(self, *x, **kwargs):\n",
    "        xA,xB=x #hackery depending on pytorch trace flag, input can be different\n",
    "        x_aA,x_bA=xA[0] if len(xA)==1 else xA\n",
    "        x_aB,x_bB=xB[0] if len(xB)==1 else xB\n",
    "        \n",
    "        if self.training:\n",
    "            if self.optimizing_gen:\n",
    "                return self._gen_pass(x_aA,x_bA,x_aB,x_bB)\n",
    "            else:\n",
    "                with torch.no_grad():\n",
    "                    self.models['GA2B'].eval()\n",
    "                    self.models['GB2A'].eval()\n",
    "                    ga2b=self.models['GA2B']\n",
    "                    gb2a=self.models['GB2A']\n",
    "                    fakeA2B,fakeB2A=ga2b(x_aB)[0],gb2a(x_bA)[0] #storing forward pass not needed?\n",
    "                    self.models['GA2B'].train()\n",
    "                    self.models['GB2A'].train()\n",
    "                return (self.models['DA'](x_aA),self.models['LA'](x_aA),self.models['DB'](x_bB),self.models['LB'](x_bB),\n",
    "                    self.models['DA'](fakeB2A),self.models['LA'](fakeB2A),self.models['DB'](fakeA2B),self.models['LB'](fakeA2B))\n",
    "        else: \n",
    "            return self._gen_pass(x_aA,x_bA,x_aB,x_bB)\n",
    "    def _gen_pass(self,x_aA,x_bA,x_aB,x_bB):\n",
    "        ga2b=self.models['GA2B']\n",
    "        gb2a=self.models['GB2A']\n",
    "        fakeA2B,fakeB2A=ga2b(x_aB),gb2a(x_bA)\n",
    "        return (fakeA2B,fakeB2A,\n",
    "            gb2a(x_aA),ga2b(x_bB),\n",
    "            self.models['DA'](fakeB2A[0]),self.models['LA'](fakeB2A[0]),self.models['DB'](fakeA2B[0]),self.models['LB'](fakeA2B[0]),\n",
    "            gb2a(fakeA2B[0].to(self.devices[0])),ga2b(fakeB2A[0].to(self.devices[-1])))\n",
    "            #Add support for splitting model across GPUs/hackily\n",
    "\n",
    "    def to(self,device):\n",
    "        if(device==torch.device(\"cpu\")):\n",
    "            super().to(device)\n",
    "        elif(len(self.devices)<=1):\n",
    "            super().to(device)\n",
    "        else:\n",
    "            self.models['GB2A'].to(self.devices[0])\n",
    "            self.models['DA'].to(self.devices[0])\n",
    "            self.models['LA'].to(self.devices[0])\n",
    "            self.models['GA2B'].to(self.devices[1])\n",
    "            self.models['DB'].to(self.devices[1])\n",
    "            self.models['LB'].to(self.devices[1])"
   ]
  },
  {
   "cell_type": "code",
   "execution_count": 6,
   "metadata": {},
   "outputs": [],
   "source": [
    "#export\n",
    "class UGATITLoss():\n",
    "    def __init__(self,cycle_weight = 10,identity_weight = 10,cam_weight = 1000,adv_weight=1):\n",
    "        store_attr(self, \"cycle_weight,identity_weight,cam_weight,adv_weight\")\n",
    "        self.MSE_loss=nn.MSELoss()\n",
    "        self.L1_loss=nn.L1Loss()\n",
    "        #self.BCE_loss=nn.BCEWithLogitsLoss()\n",
    "        self.CCE_loss = torch.nn.CrossEntropyLoss()\n",
    "        self.loss_funcs=[self.MSE_loss,self.L1_loss,self.CCE_loss]\n",
    "        self.losses=(self.GeneratorLoss(self),self.DiscriminatorLoss(self))\n",
    "        \n",
    "    #xb should be pred, need to figure out what to do here\n",
    "    def __call__(self,xb,yb):\n",
    "        return self.generator_loss(xb,yb)\n",
    "            \n",
    "    def cam_loss(self,fake_A2B_cam_logit,fake_B2B_cam_logit):\n",
    "        return self.CCE_loss(fake_A2B_cam_logit, torch.ones(fake_A2B_cam_logit.size()[0],dtype=torch.long,device=fake_A2B_cam_logit.device)) \\\n",
    "            + self.CCE_loss(fake_B2B_cam_logit, torch.zeros(fake_B2B_cam_logit.size()[0],dtype=torch.long,device=fake_B2B_cam_logit.device))\n",
    "\n",
    "    def ad_loss(self,probs,target_value=1):\n",
    "        prob, cam_prob, _ = probs\n",
    "        ad_loss = self.MSE_loss(prob, torch.full_like(prob,fill_value=target_value))\n",
    "        ad_cam_loss = self.MSE_loss(cam_prob, torch.full_like(cam_prob,fill_value=target_value))\n",
    "        return  ad_loss + ad_cam_loss\n",
    "    class GeneratorLoss(nn.Module):\n",
    "        def __init__(self,ugatit_loss):\n",
    "            super(UGATITLoss.GeneratorLoss, self).__init__()\n",
    "            self.ugatit_loss=ugatit_loss\n",
    "            self.losses=nn.ModuleList(self.ugatit_loss.loss_funcs)\n",
    "            self.tanh=nn.Tanh()\n",
    "        def decodes(self,preds):\n",
    "            return ((TensorImage(preds[0][0]),TensorImage(preds[1][0])),)\n",
    "        def __call__(self,pred,*yb):\n",
    "            ybA,ybB=yb\n",
    "            real_AA,real_BA=ybA\n",
    "            real_AB,real_BB=ybB\n",
    "            u=self.ugatit_loss\n",
    "            fake_A2B, fake_A2B_cam_logit, _ = pred[0]\n",
    "            fake_B2A, fake_B2A_cam_logit, _ = pred[1]\n",
    "\n",
    "            fake_A2A, fake_A2A_cam_logit, _ = pred[2]\n",
    "            fake_B2B, fake_B2B_cam_logit, _ = pred[3]\n",
    "            \n",
    "            predDA_on_B2A,predLA_on_B2A,predDB_on_A2B,predLB_on_A2B=pred[4],pred[5],pred[6],pred[7]\n",
    "\n",
    "            fake_cycle_A,_,_ = pred[8]\n",
    "            fake_cycle_B,_,_= pred[9]                          \n",
    "                                           \n",
    "            loss_A = u.adv_weight * (u.ad_loss(predDA_on_B2A) + u.ad_loss(predLA_on_B2A))\n",
    "            loss_B = u.adv_weight * (u.ad_loss(predDB_on_A2B) + u.ad_loss(predLB_on_A2B))\n",
    "            \n",
    "            loss_A += u.cycle_weight * u.L1_loss(fake_cycle_A,real_AA)\n",
    "            loss_B += u.cycle_weight * u.L1_loss(fake_cycle_B,real_BB)\n",
    "\n",
    "            loss_A += u.identity_weight * u.L1_loss(fake_A2A, real_AA)\n",
    "            loss_B += u.identity_weight * u.L1_loss(fake_B2B, real_BB)\n",
    "\n",
    "            loss_A += u.cam_weight * self.tanh(u.cam_loss(fake_B2A_cam_logit,fake_A2A_cam_logit))\n",
    "            loss_B += u.cam_weight * self.tanh(u.cam_loss(fake_A2B_cam_logit,fake_B2B_cam_logit))\n",
    "\n",
    "            return loss_A+loss_B.to(loss_A.device)\n",
    "\n",
    "    class DiscriminatorLoss(nn.Module):\n",
    "        def __init__(self,ugatit):\n",
    "            super(UGATITLoss.DiscriminatorLoss, self).__init__()\n",
    "            self.ugatit=ugatit\n",
    "            self.mse=self.ugatit.MSE_loss\n",
    "            \n",
    "        def __call__(self,pred,ybA,ybB):\n",
    "            u=self.ugatit\n",
    "\n",
    "            #Need to replace with adversarial loss, three variable ones/zeros_like, img, discriminator\n",
    "            \n",
    "            #need to add based on device location.\n",
    "            loss_A = u.ad_loss(pred[0])\n",
    "            loss_A += u.ad_loss(pred[1])\n",
    "            loss_B = u.ad_loss(pred[2])\n",
    "            loss_B += u.ad_loss(pred[3])\n",
    "            loss_A += u.ad_loss(pred[4],target_value=0)\n",
    "            loss_A += u.ad_loss(pred[5],target_value=0)\n",
    "            loss_B += u.ad_loss(pred[6],target_value=0)\n",
    "            loss_B += u.ad_loss(pred[7],target_value=0)\n",
    "\n",
    "            return u.adv_weight * (loss_A+loss_B.to(loss_A.device))"
   ]
  },
  {
   "cell_type": "code",
   "execution_count": 7,
   "metadata": {},
   "outputs": [],
   "source": [
    "ugatit=UGATIT()"
   ]
  },
  {
   "cell_type": "code",
   "execution_count": 8,
   "metadata": {},
   "outputs": [],
   "source": [
    "ugatit.build_model()"
   ]
  },
  {
   "cell_type": "code",
   "execution_count": 9,
   "metadata": {},
   "outputs": [],
   "source": [
    "shard_model=UgatitModel(ugatit.models,devices=(torch.device('cuda'),torch.device('cuda',index=1)))\n",
    "shard_model.to([0,0])"
   ]
  },
  {
   "cell_type": "code",
   "execution_count": 10,
   "metadata": {},
   "outputs": [
    {
     "data": {
      "text/plain": [
       "torch.Size([1, 3, 128, 128])"
      ]
     },
     "execution_count": 10,
     "metadata": {},
     "output_type": "execute_result"
    }
   ],
   "source": [
    "fx=torch.FloatTensor(x)[0][0][None].cuda()\n",
    "fx.shape"
   ]
  },
  {
   "cell_type": "code",
   "execution_count": 11,
   "metadata": {},
   "outputs": [],
   "source": [
    "fx=torch.FloatTensor(x)[0][0][None].cuda()\n",
    "input=((fx,fx),(fx.to(torch.device('cuda',index=1)),fx.to(torch.device('cuda',index=1))))\n",
    "#pred=shard_model(*input)\n",
    "#loss_func=UGATITLoss()\n",
    "#losses=loss_func.losses[0](pred,*input)\n",
    "#losses.backward()"
   ]
  },
  {
   "cell_type": "code",
   "execution_count": 12,
   "metadata": {},
   "outputs": [],
   "source": [
    "#for model in ugatit.models:\n",
    "#    model.load_state_dict(torch.load(path/(model.name+'.pt')))"
   ]
  },
  {
   "cell_type": "code",
   "execution_count": 13,
   "metadata": {},
   "outputs": [],
   "source": [
    "loss=UGATITLoss()\n",
    "discriminator_loss=loss.losses[1]\n",
    "generator_loss=loss.losses[0]\n",
    "fx=torch.FloatTensor(x)"
   ]
  },
  {
   "cell_type": "code",
   "execution_count": 14,
   "metadata": {},
   "outputs": [
    {
     "data": {
      "text/plain": [
       "['genA2B',\n",
       " 'genB2A',\n",
       " 'disGA',\n",
       " 'disGB',\n",
       " 'disLA',\n",
       " 'disLB',\n",
       " 'gen_optim',\n",
       " 'disc_optim']"
      ]
     },
     "execution_count": 14,
     "metadata": {},
     "output_type": "execute_result"
    }
   ],
   "source": [
    "[ model.name for model in ugatit.models+ugatit.optims ]"
   ]
  },
  {
   "cell_type": "markdown",
   "metadata": {},
   "source": [
    "## Need to fix BELOW!!!"
   ]
  },
  {
   "cell_type": "markdown",
   "metadata": {},
   "source": [
    "for model in ugatit.models: model.train()\n",
    "ugatit.optims[1].zero_grad()\n",
    "l=discriminator_loss((fx[0],fx[1]))\n",
    "print(l.item())\n",
    "l.backward()\n",
    "ugatit.optims[1].step()\n",
    "ugatit.optims[0].zero_grad()\n",
    "l=generator_loss(fx[0],fx[1])\n",
    "print(l.item())\n",
    "l.backward()\n",
    "ugatit.optims[0].step()\n",
    "for model in ugatit.models:\n",
    "    if(model.name=='genA2B' or model.name=='genB2A'):\n",
    "        model.apply(ugatit.Rho_clipper)\n",
    "\n",
    "discriminator_loss((fx[0],fx[1])),generator_loss(fx[0],fx[1])"
   ]
  },
  {
   "cell_type": "code",
   "execution_count": 15,
   "metadata": {},
   "outputs": [
    {
     "name": "stdout",
     "output_type": "stream",
     "text": [
      "Converted Adam Uses too much gpu memory.ipynb.\n",
      "Converted Dataloading Original.ipynb.\n",
      "Converted Dataloading-Copy1.ipynb.\n",
      "Converted Dataloading-Dec31.ipynb.\n",
      "Converted Dataloading-Oct22.ipynb.\n",
      "Converted Dataloading.ipynb.\n",
      "Converted Dataloading_10_14_2019.ipynb.\n",
      "Converted Kernel Inception Distance.ipynb.\n",
      "Converted TensorboardCallback.ipynb.\n",
      "Converted UGATIT-Dec31Backup.ipynb.\n",
      "Converted UGATIT-networks.ipynb.\n",
      "Converted UGATIT.ipynb.\n",
      "Converted UGATIT_Original.ipynb.\n",
      "Converted WandbBug.ipynb.\n"
     ]
    }
   ],
   "source": [
    "#hide\n",
    "from nbdev.export import notebook2script\n",
    "notebook2script()"
   ]
  }
 ],
 "metadata": {
  "kernelspec": {
   "display_name": "Python (fastai2)",
   "language": "python",
   "name": "fastai2"
  },
  "language_info": {
   "codemirror_mode": {
    "name": "ipython",
    "version": 3
   },
   "file_extension": ".py",
   "mimetype": "text/x-python",
   "name": "python",
   "nbconvert_exporter": "python",
   "pygments_lexer": "ipython3",
   "version": "3.6.10"
  }
 },
 "nbformat": 4,
 "nbformat_minor": 2
}
